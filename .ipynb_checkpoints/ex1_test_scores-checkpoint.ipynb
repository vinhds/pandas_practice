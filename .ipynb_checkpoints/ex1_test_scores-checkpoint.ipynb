{
 "cells": [
  {
   "cell_type": "markdown",
   "id": "e01f2d44",
   "metadata": {},
   "source": [
    "Create a series of 10 elements, random integers from 70-100, representing scores on a monthly\n",
    "exam. Set the index to be the month names, starting in September and ending in June."
   ]
  },
  {
   "cell_type": "code",
   "execution_count": 1,
   "id": "d479d198",
   "metadata": {},
   "outputs": [
    {
     "name": "stdout",
     "output_type": "stream",
     "text": [
      "[94 94 95 92 94 90 77 78 96 87]\n"
     ]
    }
   ],
   "source": [
    "import numpy as np\n",
    "a = np.random.randint(70,100,10)\n",
    "print(a)"
   ]
  },
  {
   "cell_type": "code",
   "execution_count": 2,
   "id": "2184572f",
   "metadata": {},
   "outputs": [
    {
     "name": "stdout",
     "output_type": "stream",
     "text": [
      "Sep    94\n",
      "Oct    94\n",
      "Nov    95\n",
      "Dec    92\n",
      "Jan    94\n",
      "Feb    90\n",
      "Mar    77\n",
      "Apr    78\n",
      "May    96\n",
      "Jun    87\n",
      "dtype: int32\n"
     ]
    }
   ],
   "source": [
    "import pandas as pd\n",
    "s = pd.Series(a, copy=False, index=['Sep', 'Oct', 'Nov', 'Dec', 'Jan', 'Feb', 'Mar', 'Apr', 'May', 'Jun'])\n",
    "print(s)"
   ]
  },
  {
   "cell_type": "code",
   "execution_count": 3,
   "id": "4454bc8b",
   "metadata": {},
   "outputs": [
    {
     "name": "stdout",
     "output_type": "stream",
     "text": [
      "The average test score for the entire year is 89.7\n"
     ]
    }
   ],
   "source": [
    "year_average = s.mean()\n",
    "print(f'The average test score for the entire year is {year_average}')"
   ]
  },
  {
   "cell_type": "code",
   "execution_count": 4,
   "id": "7b15a3aa",
   "metadata": {},
   "outputs": [
    {
     "name": "stdout",
     "output_type": "stream",
     "text": [
      "The average test score for the first half of the year is 93.8\n"
     ]
    }
   ],
   "source": [
    "first_half_average = s.iloc[:5].mean()\n",
    "print(f'The average test score for the first half of the year is {first_half_average}')"
   ]
  },
  {
   "cell_type": "code",
   "execution_count": 5,
   "id": "405bdf00",
   "metadata": {},
   "outputs": [
    {
     "data": {
      "text/plain": [
       "Feb    90\n",
       "Mar    77\n",
       "Apr    78\n",
       "May    96\n",
       "Jun    87\n",
       "dtype: int32"
      ]
     },
     "execution_count": 5,
     "metadata": {},
     "output_type": "execute_result"
    }
   ],
   "source": [
    "s.iloc[-5:]"
   ]
  },
  {
   "cell_type": "code",
   "execution_count": 6,
   "id": "f695e7e3",
   "metadata": {},
   "outputs": [
    {
     "name": "stdout",
     "output_type": "stream",
     "text": [
      "The average test score for the second half of the year is 85.6\n"
     ]
    }
   ],
   "source": [
    "second_half_average = s.iloc[-5:].mean()\n",
    "print(f'The average test score for the second half of the year is {second_half_average}')"
   ]
  },
  {
   "cell_type": "code",
   "execution_count": 7,
   "id": "9f7db0dc",
   "metadata": {},
   "outputs": [
    {
     "name": "stdout",
     "output_type": "stream",
     "text": [
      "The average score for the second half decreases by -8.20\n"
     ]
    }
   ],
   "source": [
    "diff = second_half_average - first_half_average\n",
    "output_str = f'increases by {diff:.2f}' if diff > 0 else f'decreases by {diff:.2f}'\n",
    "print(f'The average score for the second half {output_str}')"
   ]
  }
 ],
 "metadata": {
  "kernelspec": {
   "display_name": "Python 3 (ipykernel)",
   "language": "python",
   "name": "python3"
  },
  "language_info": {
   "codemirror_mode": {
    "name": "ipython",
    "version": 3
   },
   "file_extension": ".py",
   "mimetype": "text/x-python",
   "name": "python",
   "nbconvert_exporter": "python",
   "pygments_lexer": "ipython3",
   "version": "3.9.12"
  }
 },
 "nbformat": 4,
 "nbformat_minor": 5
}
